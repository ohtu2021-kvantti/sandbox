{
 "cells": [
  {
   "cell_type": "markdown",
   "metadata": {},
   "source": [
    "# Esimerkki VQE algoritmista\n",
    "\n",
    "https://qiskit.org/textbook/ch-applications/vqe-molecules.html#VQE-Implementation-in-Qiskit"
   ]
  },
  {
   "cell_type": "markdown",
   "metadata": {},
   "source": [
    "## Huomioita (Laurilta)\n",
    "\n",
    "- Käyttää suoraan qiskit kirjastoa, ei hyödynnä tequilaa\n",
    "- laskee molekyylin perustason energian LiH molekyylin kahden atomin eri etäisyyksillä\n",
    "- backend: lokaalisti ajettava qiskitin oma kvanttikonesimulaattori \"statevector_simulator\"\n",
    "\n",
    "### Miten about toimii??\n",
    "\n",
    "Tämä määrittelee kvanttikoneessa pyöräytettävän algoritmin\n",
    "\n",
    "```vqe = VQE(qubitOp, var_form, optimizer)```\n",
    "\n",
    "- qubitOp = Qubit operator of the Observable (tämä on molekyylin perusteella rakennettu Hamiltonian?)\n",
    "- optimizer = klassisella koneella ajettava optimointialgoritmi, jota ajetaan jokaisen iteraation lopuksi jotta saadaan seuraavan iteraation konfiguraatio?\n",
    "- var_form = A parameterized circuit used as Ansatz for the wave function (Ikäänkuin aloituskonfiguraatio?)\n",
    "\n",
    "### Algoritmin tiedot\n",
    "\n",
    "- Nimi: Ciskit VQE example\n",
    "- Algoritmin tyyppi: VQE(UCCSD)?\n",
    "- Molekyyli: LiH (Lithium hydride)\n",
    "\n",
    "### Metriikat\n",
    "\n",
    "- iterations: max 5?, koska ```optimizer = SLSQP(maxiter=5)```. Mutta todellisen määrän saa tietää vain simuloimalla? ```vqe.run(backend)``` palauttaa dictin jossa dataa, voiko siitä päätellä?\n",
    "- measurements: ?\n",
    "- circuit_depth: 100? Tuon mukaan Hamiltonianissa on 100 pauli-porttia?\n",
    "- accuracy: algoritmin tulos on -7.881014174031252, mikä on oikea arvo?"
   ]
  },
  {
   "cell_type": "markdown",
   "metadata": {},
   "source": [
    "Riippuvuudet (ainakin): qiskit, PySCF"
   ]
  },
  {
   "cell_type": "code",
   "execution_count": 2,
   "metadata": {},
   "outputs": [],
   "source": [
    "from qiskit.aqua.algorithms import VQE, NumPyEigensolver\n",
    "import matplotlib.pyplot as plt\n",
    "import numpy as np\n",
    "from qiskit.chemistry.components.variational_forms import UCCSD\n",
    "from qiskit.chemistry.components.initial_states import HartreeFock\n",
    "from qiskit.circuit.library import EfficientSU2\n",
    "from qiskit.aqua.components.optimizers import COBYLA, SPSA, SLSQP\n",
    "from qiskit.aqua.operators import Z2Symmetries\n",
    "from qiskit.aqua import QuantumInstance\n",
    "from qiskit import IBMQ, BasicAer, Aer, execute\n",
    "from qiskit.chemistry.drivers import PySCFDriver, UnitsType\n",
    "from qiskit.chemistry import FermionicOperator\n",
    "from qiskit.ignis.mitigation.measurement import CompleteMeasFitter\n",
    "from qiskit.providers.aer.noise import NoiseModel"
   ]
  },
  {
   "cell_type": "code",
   "execution_count": 3,
   "metadata": {},
   "outputs": [],
   "source": [
    "def get_qubit_op(dist):\n",
    "    driver = PySCFDriver(atom=\"Li .0 .0 .0; H .0 .0 \" + str(dist), unit=UnitsType.ANGSTROM, \n",
    "                         charge=0, spin=0, basis='sto3g')\n",
    "    molecule = driver.run()\n",
    "    freeze_list = [0]\n",
    "    remove_list = [-3, -2]\n",
    "    repulsion_energy = molecule.nuclear_repulsion_energy\n",
    "    num_particles = molecule.num_alpha + molecule.num_beta\n",
    "    num_spin_orbitals = molecule.num_orbitals * 2\n",
    "    remove_list = [x % molecule.num_orbitals for x in remove_list]\n",
    "    freeze_list = [x % molecule.num_orbitals for x in freeze_list]\n",
    "    remove_list = [x - len(freeze_list) for x in remove_list]\n",
    "    remove_list += [x + molecule.num_orbitals - len(freeze_list)  for x in remove_list]\n",
    "    freeze_list += [x + molecule.num_orbitals for x in freeze_list]\n",
    "    ferOp = FermionicOperator(h1=molecule.one_body_integrals, h2=molecule.two_body_integrals)\n",
    "    ferOp, energy_shift = ferOp.fermion_mode_freezing(freeze_list)\n",
    "    num_spin_orbitals -= len(freeze_list)\n",
    "    num_particles -= len(freeze_list)\n",
    "    ferOp = ferOp.fermion_mode_elimination(remove_list)\n",
    "    num_spin_orbitals -= len(remove_list)\n",
    "    qubitOp = ferOp.mapping(map_type='parity', threshold=0.00000001)\n",
    "    qubitOp = Z2Symmetries.two_qubit_reduction(qubitOp, num_particles)\n",
    "    shift = energy_shift + repulsion_energy\n",
    "    return qubitOp, num_particles, num_spin_orbitals, shift"
   ]
  },
  {
   "cell_type": "code",
   "execution_count": 22,
   "metadata": {},
   "outputs": [
    {
     "name": "stdout",
     "output_type": "stream",
     "text": [
      "Hamiltonian: Representation: paulis, qubits: 4, size: 100\n",
      "IIII\t(-0.19975412837029016+0j)\n",
      "IIIZ\t(-0.09179660692474748+0j)\n",
      "IIZX\t(-0.002734107511250631+0j)\n",
      "IIIX\t(0.002734107511250631+0j)\n",
      "IIXX\t(-0.0003098950346530141+0j)\n",
      "IIYY\t(0.0003098950346530141+0j)\n",
      "IIZZ\t(-0.21195934017120077+0j)\n",
      "IIXZ\t(0.019577653842571714+0j)\n",
      "IIXI\t(0.019577653842571714+0j)\n",
      "IIZI\t(0.3713564037723955+0j)\n",
      "IZII\t(0.09179660692474748+0j)\n",
      "ZXII\t(0.0027341075112506286+0j)\n",
      "IXII\t(0.0027341075112506286+0j)\n",
      "XXII\t(-0.0003098950346530141+0j)\n",
      "YYII\t(0.0003098950346530141+0j)\n",
      "ZZII\t(-0.21195934017120077+0j)\n",
      "XZII\t(-0.01957765384257171+0j)\n",
      "XIII\t(0.01957765384257171+0j)\n",
      "ZIII\t(-0.3713564037723954+0j)\n",
      "IZIZ\t(-0.12357087224900022+0j)\n",
      "IZZX\t(0.011733623912041241+0j)\n",
      "IZIX\t(-0.011733623912041241+0j)\n",
      "IZXX\t(0.033058728587768114+0j)\n",
      "IZYY\t(-0.033058728587768114+0j)\n",
      "IXIZ\t(0.011733623912041241+0j)\n",
      "ZXIZ\t(0.011733623912041241+0j)\n",
      "IXZX\t(-0.0030346568301908125+0j)\n",
      "ZXZX\t(-0.0030346568301908125+0j)\n",
      "IXIX\t(0.0030346568301908125+0j)\n",
      "ZXIX\t(0.0030346568301908125+0j)\n",
      "IXXX\t(-0.008373361424246644+0j)\n",
      "ZXXX\t(-0.008373361424246644+0j)\n",
      "IXYY\t(0.008373361424246644+0j)\n",
      "ZXYY\t(0.008373361424246644+0j)\n",
      "YYIZ\t(0.033058728587768114+0j)\n",
      "XXIZ\t(-0.033058728587768114+0j)\n",
      "YYZX\t(-0.008373361424246644+0j)\n",
      "XXZX\t(0.008373361424246644+0j)\n",
      "YYIX\t(0.008373361424246644+0j)\n",
      "XXIX\t(-0.008373361424246644+0j)\n",
      "YYXX\t(-0.030738327177322035+0j)\n",
      "XXXX\t(0.030738327177322035+0j)\n",
      "YYYY\t(0.030738327177322035+0j)\n",
      "XXYY\t(-0.030738327177322035+0j)\n",
      "ZZIZ\t(0.05665606755280555+0j)\n",
      "ZZZX\t(0.0015406700896965662+0j)\n",
      "ZZIX\t(-0.0015406700896965662+0j)\n",
      "ZZXX\t(0.002367936899598056+0j)\n",
      "ZZYY\t(-0.002367936899598056+0j)\n",
      "XIIZ\t(0.012733913979277435+0j)\n",
      "XZIZ\t(-0.012733913979277435+0j)\n",
      "XIZX\t(-0.002111137668582103+0j)\n",
      "XZZX\t(0.002111137668582103+0j)\n",
      "XIIX\t(0.002111137668582103+0j)\n",
      "XZIX\t(-0.002111137668582103+0j)\n",
      "XIXX\t(-0.007764441182108099+0j)\n",
      "XZXX\t(0.007764441182108099+0j)\n",
      "XIYY\t(0.007764441182108099+0j)\n",
      "XZYY\t(-0.007764441182108099+0j)\n",
      "ZIIZ\t(0.11433954684978706+0j)\n",
      "ZIZX\t(-0.010540187408998876+0j)\n",
      "ZIIX\t(0.010540187408998876+0j)\n",
      "ZIXX\t(-0.03511677040242179+0j)\n",
      "ZIYY\t(0.03511677040242179+0j)\n",
      "IZZZ\t(-0.05665606755280555+0j)\n",
      "IZXZ\t(-0.012733913979277435+0j)\n",
      "IZXI\t(-0.012733913979277435+0j)\n",
      "IXZZ\t(-0.0015406700896965662+0j)\n",
      "ZXZZ\t(-0.0015406700896965662+0j)\n",
      "IXXZ\t(0.0021111376685821032+0j)\n",
      "ZXXZ\t(0.0021111376685821032+0j)\n",
      "IXXI\t(0.0021111376685821032+0j)\n",
      "ZXXI\t(0.0021111376685821032+0j)\n",
      "YYZZ\t(-0.002367936899598056+0j)\n",
      "XXZZ\t(0.002367936899598056+0j)\n",
      "YYXZ\t(0.0077644411821081+0j)\n",
      "XXXZ\t(-0.0077644411821081+0j)\n",
      "YYXI\t(0.0077644411821081+0j)\n",
      "XXXI\t(-0.0077644411821081+0j)\n",
      "ZZZZ\t(0.08470391802240045+0j)\n",
      "ZZXZ\t(-0.00901204279263817+0j)\n",
      "ZZXI\t(-0.00901204279263817+0j)\n",
      "XIZZ\t(-0.00901204279263817+0j)\n",
      "XZZZ\t(0.00901204279263817+0j)\n",
      "XIXZ\t(0.006575744899172714+0j)\n",
      "XZXZ\t(-0.006575744899172714+0j)\n",
      "XIXI\t(0.006575744899172714+0j)\n",
      "XZXI\t(-0.006575744899172714+0j)\n",
      "ZIZZ\t(0.06050560567275773+0j)\n",
      "ZIXZ\t(0.01088940771607634+0j)\n",
      "ZIXI\t(0.01088940771607634+0j)\n",
      "IZZI\t(0.11433954684978706+0j)\n",
      "IXZI\t(-0.010540187408998876+0j)\n",
      "ZXZI\t(-0.010540187408998876+0j)\n",
      "YYZI\t(-0.035116770402421796+0j)\n",
      "XXZI\t(0.035116770402421796+0j)\n",
      "ZZZI\t(-0.06050560567275773+0j)\n",
      "XIZI\t(-0.01088940771607634+0j)\n",
      "XZZI\t(0.01088940771607634+0j)\n",
      "ZIZI\t(-0.11409163501021694+0j)\n",
      "\n"
     ]
    }
   ],
   "source": [
    "backend = BasicAer.get_backend(\"statevector_simulator\")\n",
    "optimizer = SLSQP(maxiter=5)\n",
    "qubitOp, num_particles, num_spin_orbitals, shift = get_qubit_op(1.5) # atomien väli 1.5 ångströmiä \n",
    "initial_state = HartreeFock(\n",
    "    num_spin_orbitals,\n",
    "    num_particles,\n",
    "    qubit_mapping='parity'\n",
    ") \n",
    "var_form = UCCSD(\n",
    "    num_orbitals=num_spin_orbitals,\n",
    "    num_particles=num_particles,\n",
    "    initial_state=initial_state,\n",
    "    qubit_mapping='parity'\n",
    ")\n",
    "print('Hamiltonian:',qubitOp)\n",
    "print(qubitOp.print_details())"
   ]
  },
  {
   "cell_type": "code",
   "execution_count": 21,
   "metadata": {},
   "outputs": [
    {
     "name": "stdout",
     "output_type": "stream",
     "text": [
      "result: {'optimal_parameters': {Parameter(θ[0]): 0.030571707470525178, Parameter(θ[1]): 0.004609773971024482, Parameter(θ[2]): 0.030565281840253308, Parameter(θ[3]): 0.00461092115886604, Parameter(θ[4]): -0.03443257129340405, Parameter(θ[5]): 0.054337625383577184, Parameter(θ[6]): 0.05442203120136574, Parameter(θ[7]): -0.10964151405650446}, 'optimal_point': array([ 0.03057171,  0.00460977,  0.03056528,  0.00461092, -0.03443257,\n",
      "        0.05433763,  0.05442203, -0.10964151]), 'optimal_value': -1.0990625470821715, 'optimizer_evals': 61, 'optimizer_time': 1.6559635240009811, 'eigenvalue': (-1.0990625470821715+0j), 'eigenstate': array([-3.26741994e-03+3.24556610e-03j, -6.52256027e-16-1.12410081e-15j,\n",
      "       -2.16761371e-02+2.15311582e-02j, -7.02057259e-01+6.97361613e-01j,\n",
      "       -3.85761412e-02+3.83181282e-02j,  0.00000000e+00+0.00000000e+00j,\n",
      "        2.37385443e-02-2.35797712e-02j, -2.16715784e-02+2.15266300e-02j,\n",
      "        0.00000000e+00+0.00000000e+00j,  0.00000000e+00+0.00000000e+00j,\n",
      "        0.00000000e+00+0.00000000e+00j, -1.33226763e-15-1.66533454e-16j,\n",
      "        7.72693983e-02-7.67525889e-02j,  0.00000000e+00+0.00000000e+00j,\n",
      "       -3.85736507e-02+3.83156543e-02j, -3.26823308e-03+3.24637380e-03j]), 'cost_function_evals': 61}\n",
      "\n",
      "eigenvalue: -7.881014174031252\n"
     ]
    }
   ],
   "source": [
    "# hamiltonian, optimizer ja ansazts yhteen\n",
    "vqe = VQE(qubitOp, var_form, optimizer)\n",
    "result = vqe.run(backend)\n",
    "print('result:',result)\n",
    "print()\n",
    "print('eigenvalue:', np.real(result['eigenvalue'] + shift))"
   ]
  },
  {
   "cell_type": "markdown",
   "metadata": {},
   "source": [
    "## Alkuperäinen koodi jossa algoritmi ajetaan useammalla etäisyydellä"
   ]
  },
  {
   "cell_type": "code",
   "execution_count": null,
   "metadata": {},
   "outputs": [],
   "source": [
    "backend = BasicAer.get_backend(\"statevector_simulator\")\n",
    "distances = np.arange(0.5, 4.0, 0.1)\n",
    "exact_energies = []\n",
    "vqe_energies = []\n",
    "optimizer = SLSQP(maxiter=5)\n",
    "for dist in distances:\n",
    "    qubitOp, num_particles, num_spin_orbitals, shift = get_qubit_op(dist)\n",
    "    result = NumPyEigensolver(qubitOp).run()\n",
    "    exact_energies.append(np.real(result.eigenvalues) + shift)\n",
    "    initial_state = HartreeFock(\n",
    "        num_spin_orbitals,\n",
    "        num_particles,\n",
    "        qubit_mapping='parity'\n",
    "    ) \n",
    "    var_form = UCCSD(\n",
    "        num_orbitals=num_spin_orbitals,\n",
    "        num_particles=num_particles,\n",
    "        initial_state=initial_state,\n",
    "        qubit_mapping='parity'\n",
    "    )\n",
    "    vqe = VQE(qubitOp, var_form, optimizer)\n",
    "    vqe_result = np.real(vqe.run(backend)['eigenvalue'] + shift)\n",
    "    vqe_energies.append(vqe_result)\n",
    "    print(\"Interatomic Distance:\", np.round(dist, 2), \"VQE Result:\", vqe_result, \"Exact Energy:\", exact_energies[-1])\n",
    "    \n",
    "print(\"All energies have been calculated\")"
   ]
  },
  {
   "cell_type": "code",
   "execution_count": 4,
   "metadata": {},
   "outputs": [
    {
     "data": {
      "image/png": "[encoded data removed]",
      "text/plain": [
       "<Figure size 432x288 with 1 Axes>"
      ]
     },
     "metadata": {
      "needs_background": "light"
     },
     "output_type": "display_data"
    }
   ],
   "source": [
    "plt.plot(distances, exact_energies, label=\"Exact Energy\")\n",
    "plt.plot(distances, vqe_energies, label=\"VQE Energy\")\n",
    "plt.xlabel('Atomic distance (Angstrom)')\n",
    "plt.ylabel('Energy')\n",
    "plt.legend()\n",
    "plt.show()"
   ]
  },
  {
   "cell_type": "code",
   "execution_count": null,
   "metadata": {},
   "outputs": [],
   "source": []
  }
 ],
 "metadata": {
  "kernelspec": {
   "display_name": "Python 3",
   "language": "python",
   "name": "python3"
  },
  "language_info": {
   "codemirror_mode": {
    "name": "ipython",
    "version": 3
   },
   "file_extension": ".py",
   "mimetype": "text/x-python",
   "name": "python",
   "nbconvert_exporter": "python",
   "pygments_lexer": "ipython3",
   "version": "3.8.5"
  }
 },
 "nbformat": 4,
 "nbformat_minor": 4
}
