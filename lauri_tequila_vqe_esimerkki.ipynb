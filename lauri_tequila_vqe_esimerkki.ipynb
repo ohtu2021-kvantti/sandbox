{
 "cells": [
  {
   "cell_type": "markdown",
   "metadata": {},
   "source": [
    "# Esimerkki VQE algoritmista tequilalla\n",
    "\n",
    "https://albacl.github.io/files/Tequila_2020.pdf\n",
    "\n",
    "## Algoritmin tiedot\n",
    "\n",
    "- Nimi: Tequila VQE example\n",
    "- Algoritmin tyyppi: VQE(BFGS optimizer, UCCSD ansatz)\n",
    "- Molekyyli: LiH (Lithium hydride)\n",
    " \n",
    "## Metriikat\n",
    "\n",
    "- iterations: 2\n",
    "- measurements: ?\n",
    "- circuit_depth: ?\n",
    "- accuracy: algoritmin tulos on -7.979466, mikä on oikea arvo?"
   ]
  },
  {
   "cell_type": "code",
   "execution_count": 1,
   "metadata": {},
   "outputs": [],
   "source": [
    "import tequila as tq"
   ]
  },
  {
   "cell_type": "markdown",
   "metadata": {},
   "source": [
    "## Define Molecule"
   ]
  },
  {
   "cell_type": "code",
   "execution_count": 2,
   "metadata": {},
   "outputs": [
    {
     "name": "stdout",
     "output_type": "stream",
     "text": [
      "<class 'tequila.quantumchemistry.psi4_interface.QuantumChemistryPsi4'>\n",
      "Qubit Encoding\n",
      "transformation=<function bravyi_kitaev at 0x7f2064325680>\n",
      "\n",
      "Parameters\n",
      "basis_set       : 6-31g           \n",
      "geometry        : H 0.0 0.0 0.0\n",
      "Li 0.0 0.0 1.6 \n",
      "description     :                 \n",
      "multiplicity    : 1               \n",
      "charge          : 0               \n",
      "closed_shell    : True            \n",
      "name            : molecule        \n",
      "\n",
      "Psi4 Data\n",
      "Point Group (full) : c_inf_v         \n",
      "Point Group (used) : c2v             \n",
      "nirrep          : 4 \n",
      "irreps          : ['A1', 'A2', 'B1', 'B2'] \n",
      "mos per irrep   : [7, 0, 2, 2]    \n",
      "Active Space Data:\n",
      "active_orbitals : [1, 4]          \n",
      "reference_orbitals : [0, 1]          \n",
      "frozen_docc     : [1, 0, 0, 0]    \n",
      "frozen_uocc     : [5, 0, 1, 2]    \n",
      "\n",
      "Orbitals:\n",
      "0 : 0A1 energy = -2.453655 \n",
      "1 : 1A1 energy = -0.300437 \n",
      "2 : 2A1 energy = +0.009271 \n",
      "3 : 0B2 energy = +0.060181 \n",
      "4 : 0B1 energy = +0.060181 \n",
      "5 : 3A1 energy = +0.145005 \n",
      "6 : 4A1 energy = +0.200485 \n",
      "7 : 1B1 energy = +0.221832 \n",
      "8 : 1B2 energy = +0.221832 \n",
      "9 : 5A1 energy = +0.358811 \n",
      "10 : 6A1 energy = +1.317811 \n",
      "\n"
     ]
    }
   ],
   "source": [
    "active = {'a1': [1], 'b1':[0]}\n",
    "molecule = tq.quantumchemistry.Molecule(geometry='H 0.0 0.0 0.0\\nLi 0.0 0.0 1.6', basis_set='6-31g', active_orbitals=active, transformation='bravyi-kitaev')\n",
    "print(molecule)"
   ]
  },
  {
   "cell_type": "markdown",
   "metadata": {},
   "source": [
    "## Get the qubit hamiltonian"
   ]
  },
  {
   "cell_type": "code",
   "execution_count": 3,
   "metadata": {},
   "outputs": [
    {
     "name": "stdout",
     "output_type": "stream",
     "text": [
      "-7.6325+0.1807Z(0)+0.1807Z(0)Z(1)+0.0141Z(2)+0.0141Z(1)Z(2)Z(3)+0.1185Z(1)+0.0025Y(0)Z(1)Y(2)Z(3)+0.0025X(0)Z(1)X(2)+0.0025X(0)Z(1)X(2)Z(3)+0.0025Y(0)Z(1)Y(2)+0.0428Z(0)Z(2)+0.0453Z(0)Z(1)Z(2)Z(3)+0.0453Z(0)Z(1)Z(2)+0.0428Z(0)Z(2)Z(3)+0.0439Z(1)Z(3)\n"
     ]
    }
   ],
   "source": [
    "H = molecule.make_hamiltonian()\n",
    "print(H)"
   ]
  },
  {
   "cell_type": "markdown",
   "metadata": {},
   "source": [
    "## Make the UCCSD ansatz with cc2 ordering"
   ]
  },
  {
   "cell_type": "code",
   "execution_count": 4,
   "metadata": {},
   "outputs": [
    {
     "name": "stdout",
     "output_type": "stream",
     "text": [
      "circuit: \n",
      "X(target=(0,))\n",
      "FermionicEx(target=(0, 1, 2, 3), control=(), parameter=Objective with 0 unique expectation values\n",
      "variables = [(1, 0, 1, 0)]\n",
      "types     = [])\n",
      "FermionicEx(target=(0, 1, 2, 3), control=(), parameter=Objective with 0 unique expectation values\n",
      "variables = [(1, 0, 1, 0)]\n",
      "types     = [])\n",
      "\n"
     ]
    }
   ],
   "source": [
    "U = molecule.make_uccsd_ansatz(initial_amplitudes='cc2', trotter_steps=1)\n",
    "print(U)"
   ]
  },
  {
   "cell_type": "markdown",
   "metadata": {},
   "source": [
    "## Define the expectationvalue"
   ]
  },
  {
   "cell_type": "code",
   "execution_count": 5,
   "metadata": {},
   "outputs": [
    {
     "name": "stdout",
     "output_type": "stream",
     "text": [
      "Objective with 1 unique expectation values\n",
      "variables = [(1, 0, 1, 0)]\n",
      "types     = not compiled\n"
     ]
    }
   ],
   "source": [
    "E = tq.ExpectationValue(H=H, U=U)\n",
    "print(E)"
   ]
  },
  {
   "cell_type": "markdown",
   "metadata": {},
   "source": [
    "## Compute reference energies"
   ]
  },
  {
   "cell_type": "code",
   "execution_count": 6,
   "metadata": {},
   "outputs": [
    {
     "name": "stdout",
     "output_type": "stream",
     "text": [
      "-7.979466028301438\n",
      "-7.979466028301438\n"
     ]
    }
   ],
   "source": [
    "fci = molecule.compute_energy('fci')\n",
    "cisd = molecule.compute_energy('detci', options={'detci__ex_level': 2})\n",
    "print(fci)\n",
    "print(cisd)"
   ]
  },
  {
   "cell_type": "markdown",
   "metadata": {},
   "source": [
    "## Optimize"
   ]
  },
  {
   "cell_type": "code",
   "execution_count": 7,
   "metadata": {},
   "outputs": [
    {
     "name": "stderr",
     "output_type": "stream",
     "text": [
      "WARNING:absl:No GPU/TPU found, falling back to CPU. (Set TF_CPP_MIN_LOG_LEVEL=0 and rerun for more info.)\n"
     ]
    },
    {
     "name": "stdout",
     "output_type": "stream",
     "text": [
      "Optimizer: <class 'tequila.optimizers.optimizer_scipy.OptimizerSciPy'> \n",
      "backend         : qulacs\n",
      "device          : None\n",
      "samples         : None\n",
      "save_history    : True\n",
      "noise           : None\n",
      "\n",
      "Method          : BFGS\n",
      "Objective       : 1 expectationvalues\n",
      "grad instr      : 2-point\n",
      "gradient        : scipy numerical 2-point\n",
      "hessian         : scipy numerical None\n",
      "\n",
      "active variables : 1\n",
      "\n",
      "E=-7.97932157  angles= {(1, 0, 1, 0): 0.0}  samples= None\n",
      "E=-7.97932156  angles= {(1, 0, 1, 0): 1.4901161193847656e-08}  samples= None\n",
      "E=-7.97945002  angles= {(1, 0, 1, 0): -0.019623160362243652}  samples= None\n",
      "E=-7.97945002  angles= {(1, 0, 1, 0): -0.019623175263404846}  samples= None\n",
      "E=-7.97946603  angles= {(1, 0, 1, 0): -0.014722356398789873}  samples= None\n",
      "E=-7.97946603  angles= {(1, 0, 1, 0): -0.014722371299951067}  samples= None\n",
      "Optimization terminated successfully.\n",
      "         Current function value: -7.979466\n",
      "         Iterations: 2\n",
      "         Function evaluations: 6\n",
      "         Gradient evaluations: 3\n"
     ]
    }
   ],
   "source": [
    "initial_values = {k:0.0 for k in E.extract_variables()}\n",
    "result = tq.minimize(objective=E, method='BFGS', gradient='2-point', method_options={'eps':1.e-3}, initial_values=initial_values)"
   ]
  },
  {
   "cell_type": "code",
   "execution_count": 8,
   "metadata": {},
   "outputs": [
    {
     "name": "stdout",
     "output_type": "stream",
     "text": [
      "VQE : -7.979466\n",
      "CISD : -7.979466\n",
      "FCI : -7.979466\n"
     ]
    }
   ],
   "source": [
    "print('VQE : {:+2.8}'.format(result.energy))\n",
    "print('CISD : {:+2.8}'.format(cisd))\n",
    "print('FCI : {:+2.8}'.format(fci))"
   ]
  },
  {
   "cell_type": "markdown",
   "metadata": {},
   "source": [
    "## Metrics"
   ]
  },
  {
   "cell_type": "code",
   "execution_count": 9,
   "metadata": {},
   "outputs": [
    {
     "name": "stdout",
     "output_type": "stream",
     "text": [
      "SciPyResults(energy=-7.979466028301399, history=OptimizerHistory(energies=[-7.979450021620234, -7.979466028301394], gradients=[], angles=[{(1, 0, 1, 0): -0.019623175263404846}, {(1, 0, 1, 0): -0.014722371299951067}], energies_calls=[], gradients_calls=[], angles_calls=[]), variables=(1, 0, 1, 0) : -0.014722356398789873\n",
      ", scipy_result=      fun: -7.979466028301399\n",
      " hess_inv: array([[0.75025409]])\n",
      "      jac: array([-3.57627869e-07])\n",
      "  message: 'Optimization terminated successfully.'\n",
      "     nfev: 6\n",
      "      nit: 2\n",
      "     njev: 3\n",
      "   status: 0\n",
      "  success: True\n",
      "        x: array([-0.01472236]))\n"
     ]
    }
   ],
   "source": [
    "print(result)"
   ]
  }
 ],
 "metadata": {
  "kernelspec": {
   "display_name": "Python 3",
   "language": "python",
   "name": "python3"
  },
  "language_info": {
   "codemirror_mode": {
    "name": "ipython",
    "version": 3
   },
   "file_extension": ".py",
   "mimetype": "text/x-python",
   "name": "python",
   "nbconvert_exporter": "python",
   "pygments_lexer": "ipython3",
   "version": "3.8.5"
  }
 },
 "nbformat": 4,
 "nbformat_minor": 4
}
