{
 "metadata": {
  "language_info": {
   "codemirror_mode": {
    "name": "ipython",
    "version": 3
   },
   "file_extension": ".py",
   "mimetype": "text/x-python",
   "name": "python",
   "nbconvert_exporter": "python",
   "pygments_lexer": "ipython3",
   "version": "3.7.10-final"
  },
  "orig_nbformat": 2,
  "kernelspec": {
   "name": "python371064bitsaakeliconda0a7ac25c047e4d5c8efe00544223d881",
   "display_name": "Python 3.7.10 64-bit ('saakeli': conda)",
   "language": "python"
  }
 },
 "nbformat": 4,
 "nbformat_minor": 2,
 "cells": [
  {
   "cell_type": "code",
   "execution_count": 1,
   "metadata": {},
   "outputs": [
    {
     "output_type": "stream",
     "name": "stderr",
     "text": [
      "WARNING:absl:No GPU/TPU found, falling back to CPU. (Set TF_CPP_MIN_LOG_LEVEL=0 and rerun for more info.)\n",
      "AVERAGE HISTORY:    [-7.829812000904422, -7.861181532922957, -7.862583075261341, -7.862688515398904, -7.862688897541181, -7.862688897541822, -7.862688897541822]\n",
      "ACCURACY HISTORY:   [0.03287689663739002, 0.0015073646188552559, 0.00010582228047084641, 3.8214290754012836e-07, 6.306066779870889e-13, 9.769962616701378e-15, 9.769962616701378e-15]\n",
      "QUBIT COUNT:        4\n",
      "GATE DEPTH:         3\n",
      "AVERAGE ITERATIONS: 4.53\n",
      "\n"
     ]
    }
   ],
   "source": [
    "import quantmark as qm\n",
    "import tequila as tq\n",
    "\n",
    "# Define optimizer\n",
    "optimizer = qm.QMOptimizer(module=\"scipy\", method=\"BFGS\")\n",
    "\n",
    "# Define backend\n",
    "backend = qm.QMBackend(backend='qulacs')\n",
    "\n",
    "# Make tequila molecule object.\n",
    "active_orbitals = {'A1':[1], 'B1':[0]}\n",
    "molecule = tq.chemistry.Molecule(\n",
    "\tgeometry='H 0.0 0.0 0.0\\nLi 0.0 0.0 1.6',\n",
    "\tbasis_set='sto-3g',\n",
    "\tactive_orbitals=active_orbitals\n",
    ")\n",
    "\n",
    "# Make tequila circuit.\n",
    "circuit = tq.gates.Ry(angle='a', target=0) + tq.gates.X(target=[2,3])\n",
    "circuit += tq.gates.X(target=1, control=0)\n",
    "circuit += tq.gates.X(target=2, control=0)\n",
    "circuit += tq.gates.X(target=3, control=1)\n",
    "\n",
    "# Run the benchmark\n",
    "result = qm.vqe_benchmark(\n",
    "\tmolecule=molecule,\n",
    "\tcircuit=circuit,\n",
    "\toptimizer=optimizer,\n",
    "\tbackend=backend,\n",
    "    repetitions=100\n",
    ")\n",
    "\n",
    "# Print result\n",
    "print(result)"
   ]
  }
 ]
}